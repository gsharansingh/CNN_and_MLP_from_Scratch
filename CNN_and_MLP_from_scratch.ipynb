{
 "cells": [
  {
   "cell_type": "code",
   "execution_count": 1,
   "metadata": {},
   "outputs": [],
   "source": [
    "DEBUG = False #Change this to \"True\" to see the output at every stage"
   ]
  },
  {
   "cell_type": "code",
   "execution_count": 2,
   "metadata": {},
   "outputs": [],
   "source": [
    "# Importing the important libraries\n",
    "import numpy as np #For array operations\n",
    "from PIL import Image #For reading images\n",
    "import matplotlib.pyplot as plt #For plotting"
   ]
  },
  {
   "cell_type": "code",
   "execution_count": 3,
   "metadata": {},
   "outputs": [
    {
     "data": {
      "image/png": "[encoded data removed]",
      "text/plain": [
       "<Figure size 720x432 with 5 Axes>"
      ]
     },
     "metadata": {
      "needs_background": "light"
     },
     "output_type": "display_data"
    }
   ],
   "source": [
    "# Saving Images that are used to train the model in the form of arrays\n",
    "num_images = 5; #Number of training images\n",
    "size_max_dimension_size = 16\n",
    "\n",
    "image = np.zeros(num_images*size_max_dimension_size*size_max_dimension_size).reshape(num_images, size_max_dimension_size, size_max_dimension_size)\n",
    "img = Image.open('1.png')\n",
    "image[0] = np.array(img)\n",
    "img = Image.open('2.png')\n",
    "image[1] = np.array(img)\n",
    "img = Image.open('3.png')\n",
    "image[2] = np.array(img)\n",
    "img = Image.open('4.png')\n",
    "image[3] = np.array(img)\n",
    "img = Image.open('5.png')\n",
    "image[4] = np.array(img)\n",
    "\n",
    "plt.figure(figsize=(10, 6))\n",
    "plt.subplots_adjust(wspace=0.5)\n",
    "for i in range(num_images):\n",
    "    plt.subplot(1, num_images, i+1)\n",
    "    plt.imshow(image[i], cmap='gray', vmin=0, vmax=255)\n",
    "\n",
    "# Normalizing the array values to have values either 0 or 1\n",
    "for i in range(num_images):\n",
    "    image[i]=image[i]/255;"
   ]
  },
  {
   "cell_type": "code",
   "execution_count": 4,
   "metadata": {},
   "outputs": [],
   "source": [
    "# Filters and their general Parameters\n",
    "zero_padding_size = 1 #zero-padding size, putting zero means no padding is being done\n",
    "pooling_size = 2 #max pooling is defined here\n",
    "num_filters = 6 #number of filters that are used\n",
    "\n",
    "filterk = np.zeros((num_filters,3,3))\n",
    "filterk[0] = np.array([[\n",
    "    [-1, 2, -1],   \n",
    "    [-1, 2, -1],   \n",
    "    [-1, 2, -1]\n",
    "]])  \n",
    "filterk[1] = np.array([[\n",
    "    [-1, -1, -1],   \n",
    "    [ 2,  2,  2],   \n",
    "    [-1, -1, -1]\n",
    "]])\n",
    "filterk[2] = np.array([[\n",
    "    [ 2, -1, -1],   \n",
    "    [-1,  2, -1],   \n",
    "    [-1, -1,  2]\n",
    "]])\n",
    "filterk[3] = np.array([[\n",
    "    [-1, -1,  2],   \n",
    "    [-1,  2, -1],   \n",
    "    [ 2, -1, -1]\n",
    "]])\n",
    "filterk[4] = np.array([[\n",
    "    [-1,  2, -1],   \n",
    "    [ 2,  2,  2],   \n",
    "    [-1,  2, -1]\n",
    "]])\n",
    "filterk[5] = np.array([[\n",
    "    [-1, -1,  2],   \n",
    "    [ 2,  2,  2],   \n",
    "    [-1, -1,  2]\n",
    "]])"
   ]
  },
  {
   "cell_type": "markdown",
   "metadata": {},
   "source": [
    "#### Defining functions to implement CNN"
   ]
  },
  {
   "cell_type": "code",
   "execution_count": 5,
   "metadata": {},
   "outputs": [],
   "source": [
    "#Padding function (Step 1 - Extracting the features of Image using Convolutional Neural Network)\n",
    "def padding(image, size):\n",
    "    top_bot_pad = np.zeros(image.shape[1] * size).reshape(size ,image.shape[1]) #it gets the image width size and generate 1D array with size = width of image\n",
    "    padded_image_intail = np.zeros((image.shape[1] + (2*size)) * image.shape[0]).reshape(image.shape[1] + (2*size), image.shape[0]) #creating a 2D array of same width but height = 2*size of padding + image original height\n",
    "    padded_image_intail = np.concatenate((np.concatenate((top_bot_pad, image), axis=0),top_bot_pad), axis=0) #Adding zeros on top and bottom\n",
    "    padded_image = np.zeros((image.shape[1] + (2*size)) * (image.shape[0] + (2*size))).reshape((image.shape[1] + (2*size)), (image.shape[0] + (2*size))) #creating a 2D array of changed height with width = 2*size of padding + image original width\n",
    "    side_pad = np.zeros(padded_image_intail.shape[0] * size).reshape(padded_image_intail.shape[0], size) #it gets the changed image height size and generate 1D array with size = changed height of image\n",
    "    padded_image = np.concatenate((np.concatenate((side_pad, padded_image_intail), axis=1),side_pad), axis=1) ##Adding zeros on top and bottom\n",
    "    if (DEBUG == True):\n",
    "        plt.figure(1)\n",
    "        plt.imshow(padded_image*255, cmap='gray', vmin=0, vmax=255)\n",
    "        plt.show()\n",
    "    return padded_image\n",
    "\n",
    "#Convolve image with filter (Step 2 - Extracting the features of Image using Convolutional Neural Network)\n",
    "def filtering(image, filterk):\n",
    "    output = np.zeros((image.shape[0] - (filterk.shape[0]-1), image.shape[1] - (filterk.shape[1]-1))) #creating an array to store convolved image\n",
    "    f = np.zeros((filterk.shape[0], filterk.shape[1])) #array to convolved data for single pixel temporarily\n",
    "    #Convolve image with filter pixel by pixel\n",
    "    for i in range (image.shape[0] - (filterk.shape[0]-1)):\n",
    "        for j in range (image.shape[1] - (filterk.shape[1]-1)):\n",
    "            f = image[i:(i+filterk.shape[0]), j:(j+filterk.shape[1])]\n",
    "            t = filterk * f\n",
    "            output[i][j] = np.sum(t)\n",
    "    if (DEBUG == True):\n",
    "        plt.imshow(output*255, cmap='gray', vmin=0, vmax=255)\n",
    "        plt.title(\"filtered output\")\n",
    "        plt.show()\n",
    "    return output\n",
    "\n",
    "#Applying  ReLU (Step 3 - Extracting the features of Image using Convolutional Neural Network)\n",
    "def ReLU(image):\n",
    "    rectified_data = np.zeros((image.shape[0], image.shape[1])) #creating an array to store rectified data\n",
    "    for i in range (image.shape[0]):\n",
    "        for j in range (image.shape[1]):\n",
    "            rectified_data[i][j] =  np.maximum(image[i][j], 0) #replacing negative values with zero\n",
    "    if (DEBUG == True):\n",
    "        plt.imshow(rectified_data*255, cmap='gray', vmin=0, vmax=255)\n",
    "        plt.title(\"ReLU output\")\n",
    "        plt.show()\n",
    "    return rectified_data\n",
    "\n",
    "#Max Pooling (Step 4 - Extracting the features of Image using Convolutional Neural Network)\n",
    "def max_pooling(image, pooling_size):\n",
    "    sampled_out = np.zeros((int(image.shape[0]/pooling_size), int(image.shape[1]/pooling_size))) #creating an array to store pooled/sampled data\n",
    "    temp_sampled = np.zeros((pooling_size, pooling_size)) #creates an array of desired pooling size i.e. 2x2 in our case\n",
    "    #selecting the porition of the rectified data\n",
    "    for i in range (int(image.shape[0]/pooling_size)):\n",
    "        for j in range (int(image.shape[1]/pooling_size)):\n",
    "            Max = 0\n",
    "            #finding the maximum value from the portion of image defined by pooled size\n",
    "            for k in range (pooling_size):\n",
    "                for l in range (pooling_size):\n",
    "                    temp_sampled[k][l]= image[(pooling_size*i)+k][(pooling_size*j)+l]\n",
    "                    if (Max < temp_sampled[k][l]):\n",
    "                        Max = temp_sampled[k][l]     \n",
    "            sampled_out[i][j] = Max #maximum value will be stored\n",
    "    if (DEBUG == True):\n",
    "        plt.imshow(sampled_out*255, cmap='gray', vmin=0, vmax=255)\n",
    "        plt.title(\"Max Pooling output\")\n",
    "        plt.show()\n",
    "    return sampled_out"
   ]
  },
  {
   "cell_type": "code",
   "execution_count": 6,
   "metadata": {},
   "outputs": [],
   "source": [
    "#function to apply all the functions related to feature extraction\n",
    "def apply_filters(image, zero_padding_size, down_sampling_size):\n",
    "    if (DEBUG == True):\n",
    "        print(\"Image Below is the padded image\");\n",
    "    padded_image = padding(image, zero_padding_size) #calling zero padding function\n",
    "    if (DEBUG == True):\n",
    "        print(\"Feature Extraction images\");\n",
    "    output_images = np.zeros((num_filters,\n",
    "                    int((image.shape[0] - 2 + (2*zero_padding_size))/down_sampling_size),\n",
    "                    int((image.shape[1] - 2 + (2*zero_padding_size))/down_sampling_size)\n",
    "                    )) #creating an array to store output after performing all operations\n",
    "    for i in range(num_filters):\n",
    "        output = filtering(padded_image, filterk[i]) #calling filtering/convolution function\n",
    "        rectified_image = ReLU(output) #calling ReLU function\n",
    "        sampled_image = max_pooling(rectified_image, down_sampling_size) #calling Max Pooling function\n",
    "        output_images[i] = sampled_image\n",
    "    return output_images"
   ]
  },
  {
   "cell_type": "code",
   "execution_count": 7,
   "metadata": {},
   "outputs": [],
   "source": [
    "# Training the data by applying filters and flatten the data (Step 5 - Extracting the features of Image using Convolutional Neural Network)\n",
    "X = np.zeros((num_images, apply_filters(image[0], zero_padding_size, pooling_size).size))\n",
    "for i in range(num_images):\n",
    "    x = apply_filters(image[i], zero_padding_size, pooling_size)\n",
    "    X[i] = x.flatten()/4  #flatten the image to feed it to the neural network and divide by 4 is used to normalize the data"
   ]
  },
  {
   "cell_type": "markdown",
   "metadata": {},
   "source": [
    "### Multilayer Perceptron"
   ]
  },
  {
   "cell_type": "code",
   "execution_count": 8,
   "metadata": {},
   "outputs": [],
   "source": [
    "# The labels for the training data.\n",
    "Y = np.array([\n",
    "    [1, 0, 0, 0, 0],\n",
    "    [0, 1, 0, 0, 0],\n",
    "    [0, 0, 1, 0, 0],\n",
    "    [0, 0, 0, 1, 0],\n",
    "    [0, 0, 0, 0, 1]\n",
    "])\n",
    "\n",
    "# defining the Sigmoid Function\n",
    "def sigmoid (x):\n",
    "    return 1/(1 + np.exp(-x))\n",
    "\n",
    "# initializing the variables\n",
    "rate=0.1 # learning rate\n",
    "input_units = X.shape[1] # number of features in data set\n",
    "hidden_units = 22 # number of hidden layers neurons\n",
    "output_units = Y.shape[1] # number of neurons at output layer\n",
    "error = []\n",
    "mse =100\n",
    "iterations = 200000; #maximum number of iteratons can be done\n",
    "\n",
    "# initializing weights and thetas\n",
    "np.random.seed(57)\n",
    "W_hidden = 4*np.random.random((input_units,hidden_units))-2\n",
    "W_output = 4*np.random.random((hidden_units,output_units))-2\n",
    "theta_hidden = 4*np.random.random((1,hidden_units))-2\n",
    "theta_output = 4*np.random.random((1,output_units))-2\n",
    "\n",
    "def forward_propagation(X, W_hidden, W_output, theta_hidden, theta_output):\n",
    "    hidden_output = sigmoid(np.dot(X,W_hidden) + theta_hidden) #4x2*2x2+1x2 = 4x2 (performing sum and activation at hidden layer)\n",
    "    Y_output = sigmoid(np.dot(hidden_output,W_output)+ theta_output) #4x2*2x1+1x1 = 4x1 (performing sum and activation at hidden layer)\n",
    "    return hidden_output, Y_output\n",
    "\n",
    "def backpropagation(Y, Y_output, hidden_output, W_hidden, W_output, theta_hidden, theta_output):\n",
    "    mse = (1/2) * np.sum(np.square(Y - Y_output)) #Mean square Error\n",
    "    E = Y-Y_output #Error dE/dO \n",
    "    error.append(mse)\n",
    "    \n",
    "    #Using Chain Rule to find Delta for both Output Weights and Hidden Wieghts\n",
    "    d_sum_o = (Y_output)*(1-Y_output) # dO_o/dSum_o\n",
    "    d_sum_h = (hidden_output)*(1-hidden_output) # dO_h/dSum_h\n",
    "    delta_output = E * d_sum_o #delta_O\n",
    "    dE_h = np.dot(delta_output, W_output.T) # dE/O_h\n",
    "    delta_hidden = dE_h * d_sum_h #delta_h\n",
    "    W_output += np.dot(hidden_output.T, delta_output) *rate #updating Wieghts for Output Layer\n",
    "    theta_output += np.sum(delta_output, axis=0,keepdims=True) *rate #updating Theta for Output Layer\n",
    "    W_hidden += np.dot(X.T, delta_hidden) * rate #updating Wieghts for Hidden Layer\n",
    "    theta_hidden += np.sum(delta_hidden, axis=0,keepdims=True) *rate #updating Theta for Hidden Layer\n",
    "    return W_hidden, W_output, theta_hidden, theta_output, mse\n",
    "\n",
    "# training the model\n",
    "while mse > 0.001 or iterations != 0:\n",
    "#for i in range(10000):\n",
    "\n",
    "    #Forward Propogation\n",
    "    hidden_output, Y_output = forward_propagation(X, W_hidden, W_output, theta_hidden, theta_output)\n",
    "\n",
    "    #Backpropagation\n",
    "    W_hidden, W_output, theta_hidden, theta_output, mse = backpropagation(Y, Y_output, hidden_output, W_hidden, W_output, theta_hidden, theta_output)\n",
    "\n",
    "    iterations -= iterations;\n"
   ]
  },
  {
   "cell_type": "code",
   "execution_count": 9,
   "metadata": {},
   "outputs": [
    {
     "data": {
      "image/png": "[encoded data removed]",
      "text/plain": [
       "<Figure size 432x288 with 1 Axes>"
      ]
     },
     "metadata": {
      "needs_background": "light"
     },
     "output_type": "display_data"
    }
   ],
   "source": [
    "plt.plot(range(len(error)), error)\n",
    "plt.xlabel(\"Iterations\")\n",
    "plt.ylabel(\"Mean Square Error\")\n",
    "plt.title(\"Learning Curve\")\n",
    "plt.show()"
   ]
  },
  {
   "cell_type": "markdown",
   "metadata": {},
   "source": [
    "## Detection of Image (Predicting the number)"
   ]
  },
  {
   "cell_type": "code",
   "execution_count": 10,
   "metadata": {},
   "outputs": [],
   "source": [
    "#Function to implement the size reduction\n",
    "def reducting_size(arr_of_image):\n",
    "    # Cropping the Image to get the image of size ratio 1:1\n",
    "    if(arr_of_image[:, 0].size < arr_of_image[0, :].size):\n",
    "        max_size = arr_of_image[:, 0].size\n",
    "        size_reduction = arr_of_image[0, :].size - max_size\n",
    "        cropped_arr = arr_of_image[:, int(size_reduction/2): arr_of_image[0, :].size - int(size_reduction/2)]\n",
    "    else:\n",
    "        max_size = arr_of_image[0, :].size\n",
    "        size_reduction = arr_of_image[:, 0].size - max_size\n",
    "        cropped_arr = arr_of_image[int(size_reduction/2): arr_of_image[0, :].size - int(size_reduction/2), :]\n",
    "\n",
    "    if (DEBUG == True):\n",
    "        plt.imshow(cropped_arr, cmap='gray', vmin=0, vmax=255)\n",
    "        plt.title('Cropped Original Image in GreyScale')\n",
    "        plt.show()\n",
    "\n",
    "    reduction_factor = int(cropped_arr.shape[0]/size_max_dimension_size)\n",
    "    if (DEBUG == True):\n",
    "        print('Reduction factor for the Image = ' + str(reduction_factor))\n",
    "\n",
    "    reduced_arr = np.zeros((size_max_dimension_size, size_max_dimension_size))\n",
    "    for i in range (size_max_dimension_size):\n",
    "        for j in range (size_max_dimension_size):\n",
    "            reduced_arr[i][j] = int(np.sum(cropped_arr[i*reduction_factor:(i+1)*reduction_factor, j*reduction_factor:(j+1)*reduction_factor])\n",
    "            /(reduction_factor*reduction_factor))\n",
    "\n",
    "    if (DEBUG == True):\n",
    "        plt.imshow(reduced_arr, cmap='gray', vmin=0, vmax=255)\n",
    "        plt.title('Size reduced Image in GreyScale')\n",
    "        plt.show()\n",
    "\n",
    "    # Converting the Grayscale image into Black and White Image by using Thresholding\n",
    "    b_w_reduced = np.zeros((size_max_dimension_size, size_max_dimension_size))\n",
    "    for i in range(size_max_dimension_size):\n",
    "        for j in range(size_max_dimension_size):\n",
    "            if (reduced_arr[i][j]<215):\n",
    "                b_w_reduced[i][j] = 0\n",
    "            else:\n",
    "                b_w_reduced[i][j] = 255;\n",
    "\n",
    "    if b_w_reduced[0][0] != 0:\n",
    "        for i in range(size_max_dimension_size):\n",
    "            for j in range(size_max_dimension_size):\n",
    "                if (b_w_reduced[i][j] == 255):\n",
    "                    b_w_reduced[i][j] = 0\n",
    "                else:\n",
    "                    b_w_reduced[i][j] = 255;\n",
    "\n",
    "    if (DEBUG == True):\n",
    "        plt.imshow(b_w_reduced, cmap='gray', vmin=0, vmax=255)\n",
    "        plt.title('Black and White Image / Image for CNN')\n",
    "        plt.show()\n",
    "        print('Shape of Image for CNN operation = ' + str(b_w_reduced.shape))\n",
    "        \n",
    "    return b_w_reduced"
   ]
  },
  {
   "cell_type": "code",
   "execution_count": 11,
   "metadata": {},
   "outputs": [
    {
     "data": {
      "image/png": "[encoded data removed]",
      "text/plain": [
       "<Figure size 432x288 with 1 Axes>"
      ]
     },
     "metadata": {
      "needs_background": "light"
     },
     "output_type": "display_data"
    }
   ],
   "source": [
    "org_img = Image.open('one.jpg')\n",
    "plt.imshow(org_img)\n",
    "plt.title('Original Image')\n",
    "plt.show()\n",
    "\n",
    "img = org_img.convert('L')\n",
    "arr_of_image = np.array(img)\n",
    "\n",
    "if (DEBUG == True):\n",
    "    plt.imshow(arr_of_image, cmap='gray', vmin=0, vmax=255)\n",
    "    plt.title('Original Image in GreyScale')\n",
    "    plt.show()\n",
    "\n",
    "    print('Shape of Original Image = ' + str(arr_of_image.shape))"
   ]
  },
  {
   "cell_type": "code",
   "execution_count": 12,
   "metadata": {},
   "outputs": [
    {
     "name": "stdout",
     "output_type": "stream",
     "text": [
      "Predicted number = 1\n"
     ]
    }
   ],
   "source": [
    "#Reducing the size of image\n",
    "reduced_image = reducting_size(arr_of_image);\n",
    "\n",
    "# Normalizing the array values to have values either 0 or 1\n",
    "test = reduced_image/255;\n",
    "\n",
    "x = apply_filters(test, zero_padding_size, pooling_size)\n",
    "test_data = x.flatten()/4 #flatten the image to feed it to the neural network and divide by 4 is used to normalize the data\n",
    "\n",
    "# Predicting the test data\n",
    "hidden_test_output, Y_test_output = forward_propagation(test_data, W_hidden, W_output, theta_hidden, theta_output)\n",
    "\n",
    "num = 1;\n",
    "Max = Y_test_output[0,0]\n",
    "\n",
    "for i in range(4):\n",
    "    if (Max < Y_test_output[0, i+1]):\n",
    "        Max = Y_test_output[0, i+1]\n",
    "        num = i+2\n",
    "        \n",
    "print('Predicted number = ' + str(num))"
   ]
  },
  {
   "cell_type": "markdown",
   "metadata": {},
   "source": [
    "## More predicted Images"
   ]
  },
  {
   "cell_type": "code",
   "execution_count": 13,
   "metadata": {
    "scrolled": true
   },
   "outputs": [
    {
     "data": {
      "image/png": "[encoded data removed]",
      "text/plain": [
       "<Figure size 432x288 with 1 Axes>"
      ]
     },
     "metadata": {
      "needs_background": "light"
     },
     "output_type": "display_data"
    },
    {
     "name": "stdout",
     "output_type": "stream",
     "text": [
      "\n",
      "Predicted number = 1\n"
     ]
    }
   ],
   "source": [
    "org_img = Image.open('one1.jpg')\n",
    "plt.imshow(org_img)\n",
    "plt.title('Original Image')\n",
    "plt.show()\n",
    "\n",
    "img = org_img.convert('L')\n",
    "arr_of_image = np.array(img)\n",
    "\n",
    "if (DEBUG == True):\n",
    "    plt.imshow(arr_of_image, cmap='gray', vmin=0, vmax=255)\n",
    "    plt.title('Original Image in GreyScale')\n",
    "    plt.show()\n",
    "\n",
    "reduced_image = reducting_size(arr_of_image);\n",
    "\n",
    "# Normalizing the array values to have values either 0 or 1\n",
    "test = reduced_image/255;\n",
    "\n",
    "x = apply_filters(test, zero_padding_size, pooling_size)\n",
    "test_data = x.flatten()/4 #flatten the image to feed it to the neural network and divide by 4 is used to normalize the data\n",
    "\n",
    "# Predicting the test data\n",
    "hidden_test_output, Y_test_output = forward_propagation(test_data, W_hidden, W_output, theta_hidden, theta_output)\n",
    "\n",
    "num = 1;\n",
    "Max = Y_test_output[0,0]\n",
    "\n",
    "for i in range(4):\n",
    "    if (Max < Y_test_output[0, i+1]):\n",
    "        Max = Y_test_output[0, i+1]\n",
    "        num = i+2\n",
    "        \n",
    "print('\\nPredicted number = ' + str(num))"
   ]
  },
  {
   "cell_type": "code",
   "execution_count": 14,
   "metadata": {},
   "outputs": [
    {
     "data": {
      "image/png": "[encoded data removed]",
      "text/plain": [
       "<Figure size 432x288 with 1 Axes>"
      ]
     },
     "metadata": {
      "needs_background": "light"
     },
     "output_type": "display_data"
    },
    {
     "name": "stdout",
     "output_type": "stream",
     "text": [
      "\n",
      "Predicted number = 5\n"
     ]
    }
   ],
   "source": [
    "org_img = Image.open('five.png')\n",
    "plt.imshow(org_img, cmap='gray', vmin=0, vmax=255)\n",
    "plt.title('Original Image')\n",
    "plt.show()\n",
    "\n",
    "img = org_img.convert('L')\n",
    "arr_of_image = np.array(img)\n",
    "\n",
    "if (DEBUG == True):\n",
    "    plt.imshow(arr_of_image, cmap='gray', vmin=0, vmax=255)\n",
    "    plt.title('Original Image in GreyScale')\n",
    "    plt.show()\n",
    "\n",
    "reduced_image = reducting_size(arr_of_image);\n",
    "\n",
    "# Normalizing the array values to have values either 0 or 1\n",
    "test = reduced_image/255;\n",
    "\n",
    "x = apply_filters(test, zero_padding_size, pooling_size)\n",
    "test_data = x.flatten()/4 #flatten the image to feed it to the neural network and divide by 4 is used to normalize the data\n",
    "\n",
    "# Predicting the test data\n",
    "hidden_test_output, Y_test_output = forward_propagation(test_data, W_hidden, W_output, theta_hidden, theta_output)\n",
    "\n",
    "num = 1;\n",
    "Max = Y_test_output[0,0]\n",
    "\n",
    "for i in range(4):\n",
    "    if (Max < Y_test_output[0, i+1]):\n",
    "        Max = Y_test_output[0, i+1]\n",
    "        num = i+2\n",
    "        \n",
    "print('\\nPredicted number = ' + str(num))"
   ]
  },
  {
   "cell_type": "code",
   "execution_count": 15,
   "metadata": {},
   "outputs": [
    {
     "data": {
      "image/png": "[encoded data removed]",
      "text/plain": [
       "<Figure size 432x288 with 1 Axes>"
      ]
     },
     "metadata": {
      "needs_background": "light"
     },
     "output_type": "display_data"
    },
    {
     "name": "stdout",
     "output_type": "stream",
     "text": [
      "\n",
      "Predicted number = 2\n"
     ]
    }
   ],
   "source": [
    "org_img = Image.open('two.png')\n",
    "plt.imshow(org_img)\n",
    "plt.title('Original Image')\n",
    "plt.show()\n",
    "\n",
    "img = org_img.convert('L')\n",
    "arr_of_image = np.array(img)\n",
    "\n",
    "if (DEBUG == True):\n",
    "    plt.imshow(arr_of_image, cmap='gray', vmin=0, vmax=255)\n",
    "    plt.title('Original Image in GreyScale')\n",
    "    plt.show()\n",
    "\n",
    "reduced_image = reducting_size(arr_of_image);\n",
    "\n",
    "# Normalizing the array values to have values either 0 or 1\n",
    "test = reduced_image/255;\n",
    "\n",
    "x = apply_filters(test, zero_padding_size, pooling_size)\n",
    "test_data = x.flatten()/4 #flatten the image to feed it to the neural network and divide by 4 is used to normalize the data\n",
    "\n",
    "# Predicting the test data\n",
    "hidden_test_output, Y_test_output = forward_propagation(test_data, W_hidden, W_output, theta_hidden, theta_output)\n",
    "\n",
    "num = 1;\n",
    "Max = Y_test_output[0,0]\n",
    "\n",
    "for i in range(4):\n",
    "    if (Max < Y_test_output[0, i+1]):\n",
    "        Max = Y_test_output[0, i+1]\n",
    "        num = i+2\n",
    "        \n",
    "print('\\nPredicted number = ' + str(num))"
   ]
  }
 ],
 "metadata": {
  "kernelspec": {
   "display_name": "Python 3",
   "language": "python",
   "name": "python3"
  },
  "language_info": {
   "codemirror_mode": {
    "name": "ipython",
    "version": 3
   },
   "file_extension": ".py",
   "mimetype": "text/x-python",
   "name": "python",
   "nbconvert_exporter": "python",
   "pygments_lexer": "ipython3",
   "version": "3.7.3"
  }
 },
 "nbformat": 4,
 "nbformat_minor": 2
}
